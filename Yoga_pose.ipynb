{
  "nbformat": 4,
  "nbformat_minor": 0,
  "metadata": {
    "colab": {
      "provenance": [],
      "gpuType": "T4"
    },
    "kernelspec": {
      "name": "python3",
      "display_name": "Python 3"
    },
    "language_info": {
      "name": "python"
    },
    "accelerator": "GPU"
  },
  "cells": [
    {
      "cell_type": "markdown",
      "source": [
        "# KeyPoints Extraction"
      ],
      "metadata": {
        "id": "kLn01DMEBUDe"
      }
    },
    {
      "cell_type": "code",
      "execution_count": null,
      "metadata": {
        "colab": {
          "base_uri": "https://localhost:8080/"
        },
        "id": "VVKaOus2YEae",
        "outputId": "1bfb59ce-c5cf-41db-cadc-da1bda7a53a6"
      },
      "outputs": [
        {
          "output_type": "stream",
          "name": "stdout",
          "text": [
            "Collecting mediapipe\n",
            "  Downloading mediapipe-0.10.18-cp310-cp310-manylinux_2_17_x86_64.manylinux2014_x86_64.whl.metadata (9.7 kB)\n",
            "Requirement already satisfied: absl-py in /usr/local/lib/python3.10/dist-packages (from mediapipe) (1.4.0)\n",
            "Requirement already satisfied: attrs>=19.1.0 in /usr/local/lib/python3.10/dist-packages (from mediapipe) (24.2.0)\n",
            "Requirement already satisfied: flatbuffers>=2.0 in /usr/local/lib/python3.10/dist-packages (from mediapipe) (24.3.25)\n",
            "Requirement already satisfied: jax in /usr/local/lib/python3.10/dist-packages (from mediapipe) (0.4.33)\n",
            "Requirement already satisfied: jaxlib in /usr/local/lib/python3.10/dist-packages (from mediapipe) (0.4.33)\n",
            "Requirement already satisfied: matplotlib in /usr/local/lib/python3.10/dist-packages (from mediapipe) (3.8.0)\n",
            "Requirement already satisfied: numpy<2 in /usr/local/lib/python3.10/dist-packages (from mediapipe) (1.26.4)\n",
            "Requirement already satisfied: opencv-contrib-python in /usr/local/lib/python3.10/dist-packages (from mediapipe) (4.10.0.84)\n",
            "Requirement already satisfied: protobuf<5,>=4.25.3 in /usr/local/lib/python3.10/dist-packages (from mediapipe) (4.25.5)\n",
            "Collecting sounddevice>=0.4.4 (from mediapipe)\n",
            "  Downloading sounddevice-0.5.1-py3-none-any.whl.metadata (1.4 kB)\n",
            "Requirement already satisfied: sentencepiece in /usr/local/lib/python3.10/dist-packages (from mediapipe) (0.2.0)\n",
            "Requirement already satisfied: CFFI>=1.0 in /usr/local/lib/python3.10/dist-packages (from sounddevice>=0.4.4->mediapipe) (1.17.1)\n",
            "Requirement already satisfied: ml-dtypes>=0.2.0 in /usr/local/lib/python3.10/dist-packages (from jax->mediapipe) (0.4.1)\n",
            "Requirement already satisfied: opt-einsum in /usr/local/lib/python3.10/dist-packages (from jax->mediapipe) (3.4.0)\n",
            "Requirement already satisfied: scipy>=1.10 in /usr/local/lib/python3.10/dist-packages (from jax->mediapipe) (1.13.1)\n",
            "Requirement already satisfied: contourpy>=1.0.1 in /usr/local/lib/python3.10/dist-packages (from matplotlib->mediapipe) (1.3.1)\n",
            "Requirement already satisfied: cycler>=0.10 in /usr/local/lib/python3.10/dist-packages (from matplotlib->mediapipe) (0.12.1)\n",
            "Requirement already satisfied: fonttools>=4.22.0 in /usr/local/lib/python3.10/dist-packages (from matplotlib->mediapipe) (4.55.1)\n",
            "Requirement already satisfied: kiwisolver>=1.0.1 in /usr/local/lib/python3.10/dist-packages (from matplotlib->mediapipe) (1.4.7)\n",
            "Requirement already satisfied: packaging>=20.0 in /usr/local/lib/python3.10/dist-packages (from matplotlib->mediapipe) (24.2)\n",
            "Requirement already satisfied: pillow>=6.2.0 in /usr/local/lib/python3.10/dist-packages (from matplotlib->mediapipe) (11.0.0)\n",
            "Requirement already satisfied: pyparsing>=2.3.1 in /usr/local/lib/python3.10/dist-packages (from matplotlib->mediapipe) (3.2.0)\n",
            "Requirement already satisfied: python-dateutil>=2.7 in /usr/local/lib/python3.10/dist-packages (from matplotlib->mediapipe) (2.8.2)\n",
            "Requirement already satisfied: pycparser in /usr/local/lib/python3.10/dist-packages (from CFFI>=1.0->sounddevice>=0.4.4->mediapipe) (2.22)\n",
            "Requirement already satisfied: six>=1.5 in /usr/local/lib/python3.10/dist-packages (from python-dateutil>=2.7->matplotlib->mediapipe) (1.16.0)\n",
            "Downloading mediapipe-0.10.18-cp310-cp310-manylinux_2_17_x86_64.manylinux2014_x86_64.whl (36.1 MB)\n",
            "\u001b[2K   \u001b[90m━━━━━━━━━━━━━━━━━━━━━━━━━━━━━━━━━━━━━━━━\u001b[0m \u001b[32m36.1/36.1 MB\u001b[0m \u001b[31m41.7 MB/s\u001b[0m eta \u001b[36m0:00:00\u001b[0m\n",
            "\u001b[?25hDownloading sounddevice-0.5.1-py3-none-any.whl (32 kB)\n",
            "Installing collected packages: sounddevice, mediapipe\n",
            "Successfully installed mediapipe-0.10.18 sounddevice-0.5.1\n"
          ]
        }
      ],
      "source": [
        "!pip install mediapipe"
      ]
    },
    {
      "cell_type": "markdown",
      "source": [
        "## Loading the dataset"
      ],
      "metadata": {
        "id": "x-z_vN33BelO"
      }
    },
    {
      "cell_type": "code",
      "source": [
        "import kagglehub\n",
        "\n",
        "# Download latest version\n",
        "path = kagglehub.dataset_download(\"tr1gg3rtrash/yoga-posture-dataset\")\n",
        "\n",
        "print(\"Path to dataset files:\", path)"
      ],
      "metadata": {
        "colab": {
          "base_uri": "https://localhost:8080/"
        },
        "id": "zdQgW2l5ailg",
        "outputId": "b92f5c83-51af-4dfa-8fbb-a566a6d17a40"
      },
      "execution_count": null,
      "outputs": [
        {
          "output_type": "stream",
          "name": "stdout",
          "text": [
            "Downloading from https://www.kaggle.com/api/v1/datasets/download/tr1gg3rtrash/yoga-posture-dataset?dataset_version_number=1...\n"
          ]
        },
        {
          "output_type": "stream",
          "name": "stderr",
          "text": [
            "100%|██████████| 447M/447M [00:16<00:00, 28.5MB/s]"
          ]
        },
        {
          "output_type": "stream",
          "name": "stdout",
          "text": [
            "Extracting files...\n"
          ]
        },
        {
          "output_type": "stream",
          "name": "stderr",
          "text": [
            "\n"
          ]
        },
        {
          "output_type": "stream",
          "name": "stdout",
          "text": [
            "Path to dataset files: /root/.cache/kagglehub/datasets/tr1gg3rtrash/yoga-posture-dataset/versions/1\n"
          ]
        }
      ]
    },
    {
      "cell_type": "markdown",
      "source": [
        "## Importing Libraries"
      ],
      "metadata": {
        "id": "kFkAjCK-BjjT"
      }
    },
    {
      "cell_type": "code",
      "source": [
        "import cv2\n",
        "import mediapipe as mp\n",
        "import numpy as np\n",
        "import pandas as pd\n",
        "from google.colab.patches import cv2_imshow\n",
        "import os\n"
      ],
      "metadata": {
        "id": "dN_HFvy7YwPm"
      },
      "execution_count": null,
      "outputs": []
    },
    {
      "cell_type": "markdown",
      "source": [
        "## Initialising the model\n"
      ],
      "metadata": {
        "id": "BVRiF0RrZ2tB"
      }
    },
    {
      "cell_type": "code",
      "source": [
        "mp_pose = mp.solutions.pose\n",
        "pose = mp_pose.Pose(static_image_mode=True, min_detection_confidence=0.3)\n",
        "mp_drawing = mp.solutions.drawing_utils"
      ],
      "metadata": {
        "id": "IqSM8HQiaHJp"
      },
      "execution_count": null,
      "outputs": []
    },
    {
      "cell_type": "markdown",
      "source": [
        "## Function to extraxt and normalise keypoints"
      ],
      "metadata": {
        "id": "Pw_hC5rwbvyC"
      }
    },
    {
      "cell_type": "code",
      "source": [
        "def extract_keypoints(image_path):\n",
        "    # Read the input image\n",
        "    image = cv2.imread(image_path)\n",
        "    if image is None:\n",
        "        print(f\"Could not read image: {image_path}\")\n",
        "        return None\n",
        "    image_rgb = cv2.cvtColor(image, cv2.COLOR_BGR2RGB)\n",
        "\n",
        "    # Process the image with MediaPipe Pose\n",
        "    results = pose.process(image_rgb)\n",
        "\n",
        "    if results.pose_landmarks:\n",
        "        # Extract keypoints\n",
        "        keypoints = [(landmark.x, landmark.y, landmark.z) for landmark in results.pose_landmarks.landmark]\n",
        "        keypoints = np.array(keypoints)\n",
        "\n",
        "        # Normalize keypoints\n",
        "        x_coords, y_coords = keypoints[:, 0], keypoints[:, 1]\n",
        "        x_min, x_max = min(x_coords), max(x_coords)\n",
        "        y_min, y_max = min(y_coords), max(y_coords)\n",
        "        width = x_max - x_min\n",
        "        height = y_max - y_min\n",
        "        normalized_keypoints = (keypoints - [x_min, y_min, 0]) / [width, height, 1]\n",
        "\n",
        "        return normalized_keypoints.flatten()\n",
        "    else:\n",
        "        print(f\"No pose detected in image: {image_path}\")\n",
        "        return None"
      ],
      "metadata": {
        "id": "PWdnbt2haIQf"
      },
      "execution_count": null,
      "outputs": []
    },
    {
      "cell_type": "markdown",
      "source": [
        "## Processing the entire dataset and save keypoints to CSV"
      ],
      "metadata": {
        "id": "yn-b2-_RcMCU"
      }
    },
    {
      "cell_type": "code",
      "source": [
        "def process_dataset(dataset_path, output_csv):\n",
        "    all_keypoints = []\n",
        "    labels = []\n",
        "\n",
        "    # Iterate through folders directly in the root directory\n",
        "    for folder in os.listdir(dataset_path):\n",
        "        folder_path = os.path.join(dataset_path, folder)\n",
        "        if os.path.isdir(folder_path):  # Ensure it is a folder\n",
        "            print(f\"Processing folder: {folder_path}\")\n",
        "            for file in os.listdir(folder_path):\n",
        "                if file.lower().endswith((\".jpg\", \".jpeg\", \".png\")):  # Handle supported image formats\n",
        "                    image_path = os.path.join(folder_path, file)\n",
        "                    keypoints = extract_keypoints(image_path)\n",
        "                    if keypoints is not None:\n",
        "                        all_keypoints.append(keypoints)\n",
        "                        labels.append(folder)  # Folder name as label\n",
        "\n",
        "    if len(all_keypoints) > 0:\n",
        "        # Save keypoints and labels to CSV\n",
        "        df = pd.DataFrame(all_keypoints)\n",
        "        df['label'] = labels\n",
        "        df.to_csv(output_csv, index=False)\n",
        "        print(f\"Keypoints saved to {output_csv}\")\n",
        "    else:\n",
        "        print(\"No keypoints were extracted. Please check the dataset and paths.\")\n"
      ],
      "metadata": {
        "id": "etk7pkGGcQjQ"
      },
      "execution_count": null,
      "outputs": []
    },
    {
      "cell_type": "code",
      "source": [
        "dataset_path = os.path.join(path)  # Base dataset path from kagglehub\n",
        "output_csv = \"/content/yoga_keypoints.csv\"\n",
        "\n",
        "# Process the dataset\n",
        "process_dataset(dataset_path, output_csv)"
      ],
      "metadata": {
        "colab": {
          "base_uri": "https://localhost:8080/"
        },
        "id": "_vH937qYciuh",
        "outputId": "88472ea9-209a-4351-ba25-cbada1f75ee5"
      },
      "execution_count": null,
      "outputs": [
        {
          "output_type": "stream",
          "name": "stdout",
          "text": [
            "Processing folder: /root/.cache/kagglehub/datasets/tr1gg3rtrash/yoga-posture-dataset/versions/1/Anjaneyasana\n",
            "Processing folder: /root/.cache/kagglehub/datasets/tr1gg3rtrash/yoga-posture-dataset/versions/1/Virabhadrasana Three\n",
            "No pose detected in image: /root/.cache/kagglehub/datasets/tr1gg3rtrash/yoga-posture-dataset/versions/1/Virabhadrasana Three/File39.png\n",
            "Processing folder: /root/.cache/kagglehub/datasets/tr1gg3rtrash/yoga-posture-dataset/versions/1/Urdhva Mukha Svsnssana\n",
            "No pose detected in image: /root/.cache/kagglehub/datasets/tr1gg3rtrash/yoga-posture-dataset/versions/1/Urdhva Mukha Svsnssana/File38.png\n",
            "No pose detected in image: /root/.cache/kagglehub/datasets/tr1gg3rtrash/yoga-posture-dataset/versions/1/Urdhva Mukha Svsnssana/File20.png\n",
            "Processing folder: /root/.cache/kagglehub/datasets/tr1gg3rtrash/yoga-posture-dataset/versions/1/Ardha Chandrasana\n",
            "No pose detected in image: /root/.cache/kagglehub/datasets/tr1gg3rtrash/yoga-posture-dataset/versions/1/Ardha Chandrasana/File43.png\n",
            "No pose detected in image: /root/.cache/kagglehub/datasets/tr1gg3rtrash/yoga-posture-dataset/versions/1/Ardha Chandrasana/File6.png\n",
            "No pose detected in image: /root/.cache/kagglehub/datasets/tr1gg3rtrash/yoga-posture-dataset/versions/1/Ardha Chandrasana/File28.png\n",
            "No pose detected in image: /root/.cache/kagglehub/datasets/tr1gg3rtrash/yoga-posture-dataset/versions/1/Ardha Chandrasana/File8.png\n",
            "Processing folder: /root/.cache/kagglehub/datasets/tr1gg3rtrash/yoga-posture-dataset/versions/1/Navasana\n",
            "Processing folder: /root/.cache/kagglehub/datasets/tr1gg3rtrash/yoga-posture-dataset/versions/1/Phalakasana\n",
            "Processing folder: /root/.cache/kagglehub/datasets/tr1gg3rtrash/yoga-posture-dataset/versions/1/Malasana\n",
            "No pose detected in image: /root/.cache/kagglehub/datasets/tr1gg3rtrash/yoga-posture-dataset/versions/1/Malasana/File3.png\n",
            "No pose detected in image: /root/.cache/kagglehub/datasets/tr1gg3rtrash/yoga-posture-dataset/versions/1/Malasana/File7.png\n",
            "No pose detected in image: /root/.cache/kagglehub/datasets/tr1gg3rtrash/yoga-posture-dataset/versions/1/Malasana/File4.png\n",
            "No pose detected in image: /root/.cache/kagglehub/datasets/tr1gg3rtrash/yoga-posture-dataset/versions/1/Malasana/File20.png\n",
            "Processing folder: /root/.cache/kagglehub/datasets/tr1gg3rtrash/yoga-posture-dataset/versions/1/Setu Bandha Sarvangasana\n",
            "No pose detected in image: /root/.cache/kagglehub/datasets/tr1gg3rtrash/yoga-posture-dataset/versions/1/Setu Bandha Sarvangasana/File53.png\n",
            "Processing folder: /root/.cache/kagglehub/datasets/tr1gg3rtrash/yoga-posture-dataset/versions/1/Salamba Sarvangasana\n",
            "No pose detected in image: /root/.cache/kagglehub/datasets/tr1gg3rtrash/yoga-posture-dataset/versions/1/Salamba Sarvangasana/File43.png\n",
            "No pose detected in image: /root/.cache/kagglehub/datasets/tr1gg3rtrash/yoga-posture-dataset/versions/1/Salamba Sarvangasana/File34.png\n",
            "No pose detected in image: /root/.cache/kagglehub/datasets/tr1gg3rtrash/yoga-posture-dataset/versions/1/Salamba Sarvangasana/File40.png\n",
            "No pose detected in image: /root/.cache/kagglehub/datasets/tr1gg3rtrash/yoga-posture-dataset/versions/1/Salamba Sarvangasana/File3.png\n",
            "No pose detected in image: /root/.cache/kagglehub/datasets/tr1gg3rtrash/yoga-posture-dataset/versions/1/Salamba Sarvangasana/File23.png\n",
            "No pose detected in image: /root/.cache/kagglehub/datasets/tr1gg3rtrash/yoga-posture-dataset/versions/1/Salamba Sarvangasana/File39.png\n",
            "No pose detected in image: /root/.cache/kagglehub/datasets/tr1gg3rtrash/yoga-posture-dataset/versions/1/Salamba Sarvangasana/File55.png\n",
            "No pose detected in image: /root/.cache/kagglehub/datasets/tr1gg3rtrash/yoga-posture-dataset/versions/1/Salamba Sarvangasana/File29.png\n",
            "Processing folder: /root/.cache/kagglehub/datasets/tr1gg3rtrash/yoga-posture-dataset/versions/1/Ustrasana\n",
            "No pose detected in image: /root/.cache/kagglehub/datasets/tr1gg3rtrash/yoga-posture-dataset/versions/1/Ustrasana/File19.png\n",
            "No pose detected in image: /root/.cache/kagglehub/datasets/tr1gg3rtrash/yoga-posture-dataset/versions/1/Ustrasana/File68.png\n",
            "No pose detected in image: /root/.cache/kagglehub/datasets/tr1gg3rtrash/yoga-posture-dataset/versions/1/Ustrasana/File41.png\n",
            "No pose detected in image: /root/.cache/kagglehub/datasets/tr1gg3rtrash/yoga-posture-dataset/versions/1/Ustrasana/File22.png\n",
            "No pose detected in image: /root/.cache/kagglehub/datasets/tr1gg3rtrash/yoga-posture-dataset/versions/1/Ustrasana/File96.png\n",
            "No pose detected in image: /root/.cache/kagglehub/datasets/tr1gg3rtrash/yoga-posture-dataset/versions/1/Ustrasana/File85.png\n",
            "No pose detected in image: /root/.cache/kagglehub/datasets/tr1gg3rtrash/yoga-posture-dataset/versions/1/Ustrasana/File88.jpeg\n",
            "No pose detected in image: /root/.cache/kagglehub/datasets/tr1gg3rtrash/yoga-posture-dataset/versions/1/Ustrasana/File58.png\n",
            "Processing folder: /root/.cache/kagglehub/datasets/tr1gg3rtrash/yoga-posture-dataset/versions/1/Parsva Virabhadrasana\n",
            "Processing folder: /root/.cache/kagglehub/datasets/tr1gg3rtrash/yoga-posture-dataset/versions/1/Urdhva Dhanurasana\n",
            "No pose detected in image: /root/.cache/kagglehub/datasets/tr1gg3rtrash/yoga-posture-dataset/versions/1/Urdhva Dhanurasana/File59.png\n",
            "No pose detected in image: /root/.cache/kagglehub/datasets/tr1gg3rtrash/yoga-posture-dataset/versions/1/Urdhva Dhanurasana/File54.png\n",
            "No pose detected in image: /root/.cache/kagglehub/datasets/tr1gg3rtrash/yoga-posture-dataset/versions/1/Urdhva Dhanurasana/File64.png\n",
            "No pose detected in image: /root/.cache/kagglehub/datasets/tr1gg3rtrash/yoga-posture-dataset/versions/1/Urdhva Dhanurasana/File69.jpeg\n",
            "No pose detected in image: /root/.cache/kagglehub/datasets/tr1gg3rtrash/yoga-posture-dataset/versions/1/Urdhva Dhanurasana/File12.png\n",
            "No pose detected in image: /root/.cache/kagglehub/datasets/tr1gg3rtrash/yoga-posture-dataset/versions/1/Urdhva Dhanurasana/File5.png\n",
            "No pose detected in image: /root/.cache/kagglehub/datasets/tr1gg3rtrash/yoga-posture-dataset/versions/1/Urdhva Dhanurasana/File46.png\n",
            "No pose detected in image: /root/.cache/kagglehub/datasets/tr1gg3rtrash/yoga-posture-dataset/versions/1/Urdhva Dhanurasana/File26.png\n",
            "No pose detected in image: /root/.cache/kagglehub/datasets/tr1gg3rtrash/yoga-posture-dataset/versions/1/Urdhva Dhanurasana/File1.png\n",
            "Processing folder: /root/.cache/kagglehub/datasets/tr1gg3rtrash/yoga-posture-dataset/versions/1/Supta Kapotasana\n",
            "No pose detected in image: /root/.cache/kagglehub/datasets/tr1gg3rtrash/yoga-posture-dataset/versions/1/Supta Kapotasana/File10.png\n",
            "No pose detected in image: /root/.cache/kagglehub/datasets/tr1gg3rtrash/yoga-posture-dataset/versions/1/Supta Kapotasana/File5.png\n",
            "No pose detected in image: /root/.cache/kagglehub/datasets/tr1gg3rtrash/yoga-posture-dataset/versions/1/Supta Kapotasana/File2.png\n",
            "Processing folder: /root/.cache/kagglehub/datasets/tr1gg3rtrash/yoga-posture-dataset/versions/1/Ardha Navasana\n",
            "No pose detected in image: /root/.cache/kagglehub/datasets/tr1gg3rtrash/yoga-posture-dataset/versions/1/Ardha Navasana/File12.png\n",
            "No pose detected in image: /root/.cache/kagglehub/datasets/tr1gg3rtrash/yoga-posture-dataset/versions/1/Ardha Navasana/File8.png\n",
            "No pose detected in image: /root/.cache/kagglehub/datasets/tr1gg3rtrash/yoga-posture-dataset/versions/1/Ardha Navasana/File2.png\n",
            "Processing folder: /root/.cache/kagglehub/datasets/tr1gg3rtrash/yoga-posture-dataset/versions/1/Paschimottanasana\n",
            "No pose detected in image: /root/.cache/kagglehub/datasets/tr1gg3rtrash/yoga-posture-dataset/versions/1/Paschimottanasana/File12.png\n",
            "No pose detected in image: /root/.cache/kagglehub/datasets/tr1gg3rtrash/yoga-posture-dataset/versions/1/Paschimottanasana/File49.png\n",
            "No pose detected in image: /root/.cache/kagglehub/datasets/tr1gg3rtrash/yoga-posture-dataset/versions/1/Paschimottanasana/File26.png\n",
            "Processing folder: /root/.cache/kagglehub/datasets/tr1gg3rtrash/yoga-posture-dataset/versions/1/Utkatasana\n",
            "No pose detected in image: /root/.cache/kagglehub/datasets/tr1gg3rtrash/yoga-posture-dataset/versions/1/Utkatasana/File81.png\n",
            "No pose detected in image: /root/.cache/kagglehub/datasets/tr1gg3rtrash/yoga-posture-dataset/versions/1/Utkatasana/File27.png\n",
            "No pose detected in image: /root/.cache/kagglehub/datasets/tr1gg3rtrash/yoga-posture-dataset/versions/1/Utkatasana/File41.png\n",
            "No pose detected in image: /root/.cache/kagglehub/datasets/tr1gg3rtrash/yoga-posture-dataset/versions/1/Utkatasana/File31.png\n",
            "No pose detected in image: /root/.cache/kagglehub/datasets/tr1gg3rtrash/yoga-posture-dataset/versions/1/Utkatasana/File49.png\n",
            "No pose detected in image: /root/.cache/kagglehub/datasets/tr1gg3rtrash/yoga-posture-dataset/versions/1/Utkatasana/File22.png\n",
            "No pose detected in image: /root/.cache/kagglehub/datasets/tr1gg3rtrash/yoga-posture-dataset/versions/1/Utkatasana/File3.png\n",
            "No pose detected in image: /root/.cache/kagglehub/datasets/tr1gg3rtrash/yoga-posture-dataset/versions/1/Utkatasana/File57.png\n",
            "No pose detected in image: /root/.cache/kagglehub/datasets/tr1gg3rtrash/yoga-posture-dataset/versions/1/Utkatasana/File1.png\n",
            "Processing folder: /root/.cache/kagglehub/datasets/tr1gg3rtrash/yoga-posture-dataset/versions/1/Bitilasana\n",
            "No pose detected in image: /root/.cache/kagglehub/datasets/tr1gg3rtrash/yoga-posture-dataset/versions/1/Bitilasana/File58.png\n",
            "No pose detected in image: /root/.cache/kagglehub/datasets/tr1gg3rtrash/yoga-posture-dataset/versions/1/Bitilasana/File55.png\n",
            "Processing folder: /root/.cache/kagglehub/datasets/tr1gg3rtrash/yoga-posture-dataset/versions/1/Salamba Bhujangasana\n",
            "No pose detected in image: /root/.cache/kagglehub/datasets/tr1gg3rtrash/yoga-posture-dataset/versions/1/Salamba Bhujangasana/File41.png\n",
            "No pose detected in image: /root/.cache/kagglehub/datasets/tr1gg3rtrash/yoga-posture-dataset/versions/1/Salamba Bhujangasana/File26.png\n",
            "Processing folder: /root/.cache/kagglehub/datasets/tr1gg3rtrash/yoga-posture-dataset/versions/1/Upavistha Konasana\n",
            "No pose detected in image: /root/.cache/kagglehub/datasets/tr1gg3rtrash/yoga-posture-dataset/versions/1/Upavistha Konasana/File8.jpeg\n",
            "No pose detected in image: /root/.cache/kagglehub/datasets/tr1gg3rtrash/yoga-posture-dataset/versions/1/Upavistha Konasana/File3.jpeg\n",
            "Processing folder: /root/.cache/kagglehub/datasets/tr1gg3rtrash/yoga-posture-dataset/versions/1/Virabhadrasana Two\n",
            "Processing folder: /root/.cache/kagglehub/datasets/tr1gg3rtrash/yoga-posture-dataset/versions/1/Garudasana\n",
            "No pose detected in image: /root/.cache/kagglehub/datasets/tr1gg3rtrash/yoga-posture-dataset/versions/1/Garudasana/File30.png\n",
            "No pose detected in image: /root/.cache/kagglehub/datasets/tr1gg3rtrash/yoga-posture-dataset/versions/1/Garudasana/File2.png\n",
            "Processing folder: /root/.cache/kagglehub/datasets/tr1gg3rtrash/yoga-posture-dataset/versions/1/Utthita Parsvakonasana\n",
            "No pose detected in image: /root/.cache/kagglehub/datasets/tr1gg3rtrash/yoga-posture-dataset/versions/1/Utthita Parsvakonasana/File60.png\n",
            "Processing folder: /root/.cache/kagglehub/datasets/tr1gg3rtrash/yoga-posture-dataset/versions/1/Baddha Konasana\n",
            "No pose detected in image: /root/.cache/kagglehub/datasets/tr1gg3rtrash/yoga-posture-dataset/versions/1/Baddha Konasana/File81.png\n",
            "No pose detected in image: /root/.cache/kagglehub/datasets/tr1gg3rtrash/yoga-posture-dataset/versions/1/Baddha Konasana/File66.png\n",
            "No pose detected in image: /root/.cache/kagglehub/datasets/tr1gg3rtrash/yoga-posture-dataset/versions/1/Baddha Konasana/File22.png\n",
            "No pose detected in image: /root/.cache/kagglehub/datasets/tr1gg3rtrash/yoga-posture-dataset/versions/1/Baddha Konasana/File35.png\n",
            "Processing folder: /root/.cache/kagglehub/datasets/tr1gg3rtrash/yoga-posture-dataset/versions/1/Bakasana\n",
            "No pose detected in image: /root/.cache/kagglehub/datasets/tr1gg3rtrash/yoga-posture-dataset/versions/1/Bakasana/File84.png\n",
            "No pose detected in image: /root/.cache/kagglehub/datasets/tr1gg3rtrash/yoga-posture-dataset/versions/1/Bakasana/File17.png\n",
            "No pose detected in image: /root/.cache/kagglehub/datasets/tr1gg3rtrash/yoga-posture-dataset/versions/1/Bakasana/File23.png\n",
            "No pose detected in image: /root/.cache/kagglehub/datasets/tr1gg3rtrash/yoga-posture-dataset/versions/1/Bakasana/File4.png\n",
            "Processing folder: /root/.cache/kagglehub/datasets/tr1gg3rtrash/yoga-posture-dataset/versions/1/Padmasana\n",
            "No pose detected in image: /root/.cache/kagglehub/datasets/tr1gg3rtrash/yoga-posture-dataset/versions/1/Padmasana/File14.png\n",
            "No pose detected in image: /root/.cache/kagglehub/datasets/tr1gg3rtrash/yoga-posture-dataset/versions/1/Padmasana/File49.png\n",
            "No pose detected in image: /root/.cache/kagglehub/datasets/tr1gg3rtrash/yoga-posture-dataset/versions/1/Padmasana/File13.png\n",
            "No pose detected in image: /root/.cache/kagglehub/datasets/tr1gg3rtrash/yoga-posture-dataset/versions/1/Padmasana/File38.png\n",
            "No pose detected in image: /root/.cache/kagglehub/datasets/tr1gg3rtrash/yoga-posture-dataset/versions/1/Padmasana/File1.png\n",
            "No pose detected in image: /root/.cache/kagglehub/datasets/tr1gg3rtrash/yoga-posture-dataset/versions/1/Padmasana/File7.png\n",
            "No pose detected in image: /root/.cache/kagglehub/datasets/tr1gg3rtrash/yoga-posture-dataset/versions/1/Padmasana/File4.png\n",
            "Processing folder: /root/.cache/kagglehub/datasets/tr1gg3rtrash/yoga-posture-dataset/versions/1/Adho Mukha Svanasana\n",
            "Processing folder: /root/.cache/kagglehub/datasets/tr1gg3rtrash/yoga-posture-dataset/versions/1/Adho Mukha Vrksasana\n",
            "No pose detected in image: /root/.cache/kagglehub/datasets/tr1gg3rtrash/yoga-posture-dataset/versions/1/Adho Mukha Vrksasana/File33.png\n",
            "No pose detected in image: /root/.cache/kagglehub/datasets/tr1gg3rtrash/yoga-posture-dataset/versions/1/Adho Mukha Vrksasana/File6.png\n",
            "No pose detected in image: /root/.cache/kagglehub/datasets/tr1gg3rtrash/yoga-posture-dataset/versions/1/Adho Mukha Vrksasana/File13.png\n",
            "No pose detected in image: /root/.cache/kagglehub/datasets/tr1gg3rtrash/yoga-posture-dataset/versions/1/Adho Mukha Vrksasana/File3.png\n",
            "Processing folder: /root/.cache/kagglehub/datasets/tr1gg3rtrash/yoga-posture-dataset/versions/1/Ardha Matsyendrasana\n",
            "No pose detected in image: /root/.cache/kagglehub/datasets/tr1gg3rtrash/yoga-posture-dataset/versions/1/Ardha Matsyendrasana/File52.png\n",
            "No pose detected in image: /root/.cache/kagglehub/datasets/tr1gg3rtrash/yoga-posture-dataset/versions/1/Ardha Matsyendrasana/File79.png\n",
            "Processing folder: /root/.cache/kagglehub/datasets/tr1gg3rtrash/yoga-posture-dataset/versions/1/Eka Pada Rajakapotasana\n",
            "No pose detected in image: /root/.cache/kagglehub/datasets/tr1gg3rtrash/yoga-posture-dataset/versions/1/Eka Pada Rajakapotasana/File9.png\n",
            "No pose detected in image: /root/.cache/kagglehub/datasets/tr1gg3rtrash/yoga-posture-dataset/versions/1/Eka Pada Rajakapotasana/File3.png\n",
            "Processing folder: /root/.cache/kagglehub/datasets/tr1gg3rtrash/yoga-posture-dataset/versions/1/Ardha Pincha Mayurasana\n",
            "No pose detected in image: /root/.cache/kagglehub/datasets/tr1gg3rtrash/yoga-posture-dataset/versions/1/Ardha Pincha Mayurasana/File54.png\n",
            "No pose detected in image: /root/.cache/kagglehub/datasets/tr1gg3rtrash/yoga-posture-dataset/versions/1/Ardha Pincha Mayurasana/File27.png\n",
            "No pose detected in image: /root/.cache/kagglehub/datasets/tr1gg3rtrash/yoga-posture-dataset/versions/1/Ardha Pincha Mayurasana/File36.png\n",
            "Processing folder: /root/.cache/kagglehub/datasets/tr1gg3rtrash/yoga-posture-dataset/versions/1/Utthita Hasta Padangusthasana\n",
            "No pose detected in image: /root/.cache/kagglehub/datasets/tr1gg3rtrash/yoga-posture-dataset/versions/1/Utthita Hasta Padangusthasana/File64.png\n",
            "No pose detected in image: /root/.cache/kagglehub/datasets/tr1gg3rtrash/yoga-posture-dataset/versions/1/Utthita Hasta Padangusthasana/File50.png\n",
            "Processing folder: /root/.cache/kagglehub/datasets/tr1gg3rtrash/yoga-posture-dataset/versions/1/Marjaryasana\n",
            "Processing folder: /root/.cache/kagglehub/datasets/tr1gg3rtrash/yoga-posture-dataset/versions/1/Balasana\n",
            "No pose detected in image: /root/.cache/kagglehub/datasets/tr1gg3rtrash/yoga-posture-dataset/versions/1/Balasana/File74.jpeg\n",
            "No pose detected in image: /root/.cache/kagglehub/datasets/tr1gg3rtrash/yoga-posture-dataset/versions/1/Balasana/File19.png\n",
            "No pose detected in image: /root/.cache/kagglehub/datasets/tr1gg3rtrash/yoga-posture-dataset/versions/1/Balasana/File25.png\n",
            "No pose detected in image: /root/.cache/kagglehub/datasets/tr1gg3rtrash/yoga-posture-dataset/versions/1/Balasana/File71.png\n",
            "No pose detected in image: /root/.cache/kagglehub/datasets/tr1gg3rtrash/yoga-posture-dataset/versions/1/Balasana/File46.png\n",
            "No pose detected in image: /root/.cache/kagglehub/datasets/tr1gg3rtrash/yoga-posture-dataset/versions/1/Balasana/File26.png\n",
            "No pose detected in image: /root/.cache/kagglehub/datasets/tr1gg3rtrash/yoga-posture-dataset/versions/1/Balasana/File60.png\n",
            "No pose detected in image: /root/.cache/kagglehub/datasets/tr1gg3rtrash/yoga-posture-dataset/versions/1/Balasana/File58.png\n",
            "No pose detected in image: /root/.cache/kagglehub/datasets/tr1gg3rtrash/yoga-posture-dataset/versions/1/Balasana/File67.png\n",
            "Processing folder: /root/.cache/kagglehub/datasets/tr1gg3rtrash/yoga-posture-dataset/versions/1/Hanumanasana\n",
            "No pose detected in image: /root/.cache/kagglehub/datasets/tr1gg3rtrash/yoga-posture-dataset/versions/1/Hanumanasana/File14.png\n",
            "No pose detected in image: /root/.cache/kagglehub/datasets/tr1gg3rtrash/yoga-posture-dataset/versions/1/Hanumanasana/File38.jpeg\n",
            "Processing folder: /root/.cache/kagglehub/datasets/tr1gg3rtrash/yoga-posture-dataset/versions/1/Pincha Mayurasana\n",
            "Processing folder: /root/.cache/kagglehub/datasets/tr1gg3rtrash/yoga-posture-dataset/versions/1/Virabhadrasana One\n",
            "Processing folder: /root/.cache/kagglehub/datasets/tr1gg3rtrash/yoga-posture-dataset/versions/1/Alanasana\n",
            "No pose detected in image: /root/.cache/kagglehub/datasets/tr1gg3rtrash/yoga-posture-dataset/versions/1/Alanasana/File2.png\n",
            "Processing folder: /root/.cache/kagglehub/datasets/tr1gg3rtrash/yoga-posture-dataset/versions/1/Halasana\n",
            "No pose detected in image: /root/.cache/kagglehub/datasets/tr1gg3rtrash/yoga-posture-dataset/versions/1/Halasana/File59.png\n",
            "No pose detected in image: /root/.cache/kagglehub/datasets/tr1gg3rtrash/yoga-posture-dataset/versions/1/Halasana/File41.png\n",
            "No pose detected in image: /root/.cache/kagglehub/datasets/tr1gg3rtrash/yoga-posture-dataset/versions/1/Halasana/File34.png\n",
            "No pose detected in image: /root/.cache/kagglehub/datasets/tr1gg3rtrash/yoga-posture-dataset/versions/1/Halasana/File35.png\n",
            "No pose detected in image: /root/.cache/kagglehub/datasets/tr1gg3rtrash/yoga-posture-dataset/versions/1/Halasana/File16.png\n",
            "No pose detected in image: /root/.cache/kagglehub/datasets/tr1gg3rtrash/yoga-posture-dataset/versions/1/Halasana/File32.png\n",
            "Processing folder: /root/.cache/kagglehub/datasets/tr1gg3rtrash/yoga-posture-dataset/versions/1/Ashta Chandrasana\n",
            "Processing folder: /root/.cache/kagglehub/datasets/tr1gg3rtrash/yoga-posture-dataset/versions/1/Trikonasana\n",
            "Processing folder: /root/.cache/kagglehub/datasets/tr1gg3rtrash/yoga-posture-dataset/versions/1/Dhanurasana\n",
            "No pose detected in image: /root/.cache/kagglehub/datasets/tr1gg3rtrash/yoga-posture-dataset/versions/1/Dhanurasana/File44.png\n",
            "No pose detected in image: /root/.cache/kagglehub/datasets/tr1gg3rtrash/yoga-posture-dataset/versions/1/Dhanurasana/File54.png\n",
            "No pose detected in image: /root/.cache/kagglehub/datasets/tr1gg3rtrash/yoga-posture-dataset/versions/1/Dhanurasana/File43.png\n",
            "No pose detected in image: /root/.cache/kagglehub/datasets/tr1gg3rtrash/yoga-posture-dataset/versions/1/Dhanurasana/File7.png\n",
            "Processing folder: /root/.cache/kagglehub/datasets/tr1gg3rtrash/yoga-posture-dataset/versions/1/Vrksasana\n",
            "No pose detected in image: /root/.cache/kagglehub/datasets/tr1gg3rtrash/yoga-posture-dataset/versions/1/Vrksasana/File63.jpeg\n",
            "Processing folder: /root/.cache/kagglehub/datasets/tr1gg3rtrash/yoga-posture-dataset/versions/1/Camatkarasana\n",
            "Processing folder: /root/.cache/kagglehub/datasets/tr1gg3rtrash/yoga-posture-dataset/versions/1/Parsvottanasana\n",
            "No pose detected in image: /root/.cache/kagglehub/datasets/tr1gg3rtrash/yoga-posture-dataset/versions/1/Parsvottanasana/File19.png\n",
            "No pose detected in image: /root/.cache/kagglehub/datasets/tr1gg3rtrash/yoga-posture-dataset/versions/1/Parsvottanasana/File26.png\n",
            "No pose detected in image: /root/.cache/kagglehub/datasets/tr1gg3rtrash/yoga-posture-dataset/versions/1/Parsvottanasana/File1.png\n",
            "Processing folder: /root/.cache/kagglehub/datasets/tr1gg3rtrash/yoga-posture-dataset/versions/1/Uttanasana\n",
            "No pose detected in image: /root/.cache/kagglehub/datasets/tr1gg3rtrash/yoga-posture-dataset/versions/1/Uttanasana/File51.png\n",
            "No pose detected in image: /root/.cache/kagglehub/datasets/tr1gg3rtrash/yoga-posture-dataset/versions/1/Uttanasana/File36.png\n",
            "No pose detected in image: /root/.cache/kagglehub/datasets/tr1gg3rtrash/yoga-posture-dataset/versions/1/Uttanasana/File62.png\n",
            "No pose detected in image: /root/.cache/kagglehub/datasets/tr1gg3rtrash/yoga-posture-dataset/versions/1/Uttanasana/File32.png\n",
            "Processing folder: /root/.cache/kagglehub/datasets/tr1gg3rtrash/yoga-posture-dataset/versions/1/Sivasana\n",
            "Processing folder: /root/.cache/kagglehub/datasets/tr1gg3rtrash/yoga-posture-dataset/versions/1/Vasisthasana\n",
            "No pose detected in image: /root/.cache/kagglehub/datasets/tr1gg3rtrash/yoga-posture-dataset/versions/1/Vasisthasana/File23.png\n",
            "Keypoints saved to /content/yoga_keypoints.csv\n"
          ]
        }
      ]
    },
    {
      "cell_type": "markdown",
      "source": [
        "## Checking the CSV file"
      ],
      "metadata": {
        "id": "f0D8UUQKBvVD"
      }
    },
    {
      "cell_type": "code",
      "source": [
        "import pandas as pd\n",
        "\n",
        "keypoints_df = pd.read_csv('/content/yoga_keypoints.csv')\n",
        "print(keypoints_df.head())"
      ],
      "metadata": {
        "colab": {
          "base_uri": "https://localhost:8080/"
        },
        "id": "YeOeQhcSc1dk",
        "outputId": "e2e7c4c0-7df8-4a16-c7db-de6b67357294"
      },
      "execution_count": null,
      "outputs": [
        {
          "output_type": "stream",
          "name": "stdout",
          "text": [
            "          0         1         2         3         4         5         6  \\\n",
            "0  0.379307  0.268986 -0.249039  0.403164  0.258503 -0.292665  0.405915   \n",
            "1  0.542991  0.000873 -0.056974  0.560612  0.000000 -0.086612  0.561551   \n",
            "2  0.582899  0.296683 -0.056250  0.609204  0.301483 -0.080810  0.610430   \n",
            "3  0.364177  0.314397 -0.133954  0.384789  0.293991 -0.167073  0.389159   \n",
            "4  0.497106  0.075594 -0.259878  0.524652  0.087406 -0.293495  0.527161   \n",
            "\n",
            "          7         8         9  ...        90        91        92   93  \\\n",
            "0  0.260801 -0.292517  0.408872  ...  0.139663  0.943306  0.643350  1.0   \n",
            "1  0.003118 -0.086581  0.562749  ...  0.990231  0.891121  0.301815  0.0   \n",
            "2  0.308129 -0.080818  0.611666  ...  0.870198  0.907586 -0.086578  0.0   \n",
            "3  0.294353 -0.166945  0.393661  ...  0.139931  0.972488  0.429078  1.0   \n",
            "4  0.093818 -0.293323  0.530002  ...  0.125889  0.982878  0.225679  1.0   \n",
            "\n",
            "         94        95   96        97        98         label  \n",
            "0  1.000000 -0.332617  0.0  0.941016  0.637980  Anjaneyasana  \n",
            "1  0.990764 -0.072898  1.0  0.851046  0.278985  Anjaneyasana  \n",
            "2  1.000000  0.076418  1.0  0.921667 -0.150568  Anjaneyasana  \n",
            "3  1.000000 -0.391470  0.0  0.964111  0.406971  Anjaneyasana  \n",
            "4  0.987626 -0.176726  0.0  1.000000  0.198068  Anjaneyasana  \n",
            "\n",
            "[5 rows x 100 columns]\n"
          ]
        }
      ]
    }
  ]
}